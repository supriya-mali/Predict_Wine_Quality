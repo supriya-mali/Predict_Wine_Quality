{
 "cells": [
  {
   "cell_type": "code",
   "execution_count": 1,
   "metadata": {},
   "outputs": [],
   "source": [
    "import pandas as pd\n",
    "import numpy as np\n",
    "import seaborn as sns\n",
    "import matplotlib.pyplot as plt\n",
    "from sklearn.ensemble import RandomForestClassifier\n",
    "from sklearn.metrics import confusion_matrix, classification_report\n",
    "from sklearn.model_selection import train_test_split\n",
    "from sklearn.naive_bayes import MultinomialNB\n",
    "from sklearn.metrics import mean_squared_error\n",
    "from sklearn.neighbors import KNeighborsClassifier\n",
    "from sklearn.linear_model import LogisticRegression\n",
    "from sklearn.metrics import accuracy_score"
   ]
  },
  {
   "cell_type": "code",
   "execution_count": 2,
   "metadata": {},
   "outputs": [
    {
     "data": {
      "text/html": [
       "<div>\n",
       "<style scoped>\n",
       "    .dataframe tbody tr th:only-of-type {\n",
       "        vertical-align: middle;\n",
       "    }\n",
       "\n",
       "    .dataframe tbody tr th {\n",
       "        vertical-align: top;\n",
       "    }\n",
       "\n",
       "    .dataframe thead th {\n",
       "        text-align: right;\n",
       "    }\n",
       "</style>\n",
       "<table border=\"1\" class=\"dataframe\">\n",
       "  <thead>\n",
       "    <tr style=\"text-align: right;\">\n",
       "      <th></th>\n",
       "      <th>fixed acidity</th>\n",
       "      <th>volatile acidity</th>\n",
       "      <th>citric acid</th>\n",
       "      <th>residual sugar</th>\n",
       "      <th>chlorides</th>\n",
       "      <th>free sulfur dioxide</th>\n",
       "      <th>total sulfur dioxide</th>\n",
       "      <th>density</th>\n",
       "      <th>pH</th>\n",
       "      <th>sulphates</th>\n",
       "      <th>alcohol</th>\n",
       "      <th>quality</th>\n",
       "    </tr>\n",
       "  </thead>\n",
       "  <tbody>\n",
       "    <tr>\n",
       "      <th>0</th>\n",
       "      <td>7.0</td>\n",
       "      <td>0.27</td>\n",
       "      <td>0.36</td>\n",
       "      <td>20.7</td>\n",
       "      <td>0.045</td>\n",
       "      <td>45.0</td>\n",
       "      <td>170.0</td>\n",
       "      <td>1.0010</td>\n",
       "      <td>3.00</td>\n",
       "      <td>0.45</td>\n",
       "      <td>8.8</td>\n",
       "      <td>6</td>\n",
       "    </tr>\n",
       "    <tr>\n",
       "      <th>1</th>\n",
       "      <td>6.3</td>\n",
       "      <td>0.30</td>\n",
       "      <td>0.34</td>\n",
       "      <td>1.6</td>\n",
       "      <td>0.049</td>\n",
       "      <td>14.0</td>\n",
       "      <td>132.0</td>\n",
       "      <td>0.9940</td>\n",
       "      <td>3.30</td>\n",
       "      <td>0.49</td>\n",
       "      <td>9.5</td>\n",
       "      <td>6</td>\n",
       "    </tr>\n",
       "    <tr>\n",
       "      <th>2</th>\n",
       "      <td>8.1</td>\n",
       "      <td>0.28</td>\n",
       "      <td>0.40</td>\n",
       "      <td>6.9</td>\n",
       "      <td>0.050</td>\n",
       "      <td>30.0</td>\n",
       "      <td>97.0</td>\n",
       "      <td>0.9951</td>\n",
       "      <td>3.26</td>\n",
       "      <td>0.44</td>\n",
       "      <td>10.1</td>\n",
       "      <td>6</td>\n",
       "    </tr>\n",
       "    <tr>\n",
       "      <th>3</th>\n",
       "      <td>7.2</td>\n",
       "      <td>0.23</td>\n",
       "      <td>0.32</td>\n",
       "      <td>8.5</td>\n",
       "      <td>0.058</td>\n",
       "      <td>47.0</td>\n",
       "      <td>186.0</td>\n",
       "      <td>0.9956</td>\n",
       "      <td>3.19</td>\n",
       "      <td>0.40</td>\n",
       "      <td>9.9</td>\n",
       "      <td>6</td>\n",
       "    </tr>\n",
       "    <tr>\n",
       "      <th>4</th>\n",
       "      <td>7.2</td>\n",
       "      <td>0.23</td>\n",
       "      <td>0.32</td>\n",
       "      <td>8.5</td>\n",
       "      <td>0.058</td>\n",
       "      <td>47.0</td>\n",
       "      <td>186.0</td>\n",
       "      <td>0.9956</td>\n",
       "      <td>3.19</td>\n",
       "      <td>0.40</td>\n",
       "      <td>9.9</td>\n",
       "      <td>6</td>\n",
       "    </tr>\n",
       "  </tbody>\n",
       "</table>\n",
       "</div>"
      ],
      "text/plain": [
       "   fixed acidity  volatile acidity  citric acid  residual sugar  chlorides  \\\n",
       "0            7.0              0.27         0.36            20.7      0.045   \n",
       "1            6.3              0.30         0.34             1.6      0.049   \n",
       "2            8.1              0.28         0.40             6.9      0.050   \n",
       "3            7.2              0.23         0.32             8.5      0.058   \n",
       "4            7.2              0.23         0.32             8.5      0.058   \n",
       "\n",
       "   free sulfur dioxide  total sulfur dioxide  density    pH  sulphates  \\\n",
       "0                 45.0                 170.0   1.0010  3.00       0.45   \n",
       "1                 14.0                 132.0   0.9940  3.30       0.49   \n",
       "2                 30.0                  97.0   0.9951  3.26       0.44   \n",
       "3                 47.0                 186.0   0.9956  3.19       0.40   \n",
       "4                 47.0                 186.0   0.9956  3.19       0.40   \n",
       "\n",
       "   alcohol  quality  \n",
       "0      8.8        6  \n",
       "1      9.5        6  \n",
       "2     10.1        6  \n",
       "3      9.9        6  \n",
       "4      9.9        6  "
      ]
     },
     "execution_count": 2,
     "metadata": {},
     "output_type": "execute_result"
    }
   ],
   "source": [
    "Data=pd.read_csv(\"G:\\Supriya\\Assignment\\winequality-white.csv\")\n",
    "Data.head()"
   ]
  },
  {
   "cell_type": "code",
   "execution_count": 3,
   "metadata": {},
   "outputs": [
    {
     "data": {
      "text/plain": [
       "(4898, 12)"
      ]
     },
     "execution_count": 3,
     "metadata": {},
     "output_type": "execute_result"
    }
   ],
   "source": [
    "Data.shape"
   ]
  },
  {
   "cell_type": "code",
   "execution_count": 4,
   "metadata": {},
   "outputs": [
    {
     "name": "stdout",
     "output_type": "stream",
     "text": [
      "<class 'pandas.core.frame.DataFrame'>\n",
      "RangeIndex: 4898 entries, 0 to 4897\n",
      "Data columns (total 12 columns):\n",
      "fixed acidity           4898 non-null float64\n",
      "volatile acidity        4898 non-null float64\n",
      "citric acid             4898 non-null float64\n",
      "residual sugar          4898 non-null float64\n",
      "chlorides               4898 non-null float64\n",
      "free sulfur dioxide     4898 non-null float64\n",
      "total sulfur dioxide    4898 non-null float64\n",
      "density                 4898 non-null float64\n",
      "pH                      4898 non-null float64\n",
      "sulphates               4898 non-null float64\n",
      "alcohol                 4898 non-null float64\n",
      "quality                 4898 non-null int64\n",
      "dtypes: float64(11), int64(1)\n",
      "memory usage: 459.3 KB\n"
     ]
    }
   ],
   "source": [
    "Data.info()"
   ]
  },
  {
   "cell_type": "code",
   "execution_count": 5,
   "metadata": {},
   "outputs": [
    {
     "data": {
      "text/plain": [
       "fixed acidity           0\n",
       "volatile acidity        0\n",
       "citric acid             0\n",
       "residual sugar          0\n",
       "chlorides               0\n",
       "free sulfur dioxide     0\n",
       "total sulfur dioxide    0\n",
       "density                 0\n",
       "pH                      0\n",
       "sulphates               0\n",
       "alcohol                 0\n",
       "quality                 0\n",
       "dtype: int64"
      ]
     },
     "execution_count": 5,
     "metadata": {},
     "output_type": "execute_result"
    }
   ],
   "source": [
    "Data.isnull().sum()"
   ]
  },
  {
   "cell_type": "code",
   "execution_count": 6,
   "metadata": {},
   "outputs": [
    {
     "data": {
      "image/png": "[encoded data removed]",
      "text/plain": [
       "<Figure size 432x288 with 1 Axes>"
      ]
     },
     "metadata": {
      "needs_background": "light"
     },
     "output_type": "display_data"
    }
   ],
   "source": [
    "one=sns.countplot(Data['quality'])"
   ]
  },
  {
   "cell_type": "code",
   "execution_count": 7,
   "metadata": {},
   "outputs": [],
   "source": [
    "Data=Data[Data.quality!=9]\n",
    "Data=Data[Data.quality!=3]"
   ]
  },
  {
   "cell_type": "code",
   "execution_count": 8,
   "metadata": {},
   "outputs": [],
   "source": [
    "def outliers(x): \n",
    "    return np.abs(x- x.median()) > 1.5*(x.quantile(.75)-x.quantile(0.25))\n",
    "def replace(x):  \n",
    "    out = x[outliers(x)]\n",
    "    return x.replace(to_replace = [out.min(),out.max()], \n",
    "        value = [np.percentile(x,5),np.percentile(x,95)])"
   ]
  },
  {
   "cell_type": "code",
   "execution_count": 9,
   "metadata": {},
   "outputs": [],
   "source": [
    "Data = Data.apply(replace,axis=1)"
   ]
  },
  {
   "cell_type": "code",
   "execution_count": 10,
   "metadata": {},
   "outputs": [
    {
     "name": "stderr",
     "output_type": "stream",
     "text": [
      "c:\\users\\dell\\appdata\\local\\programs\\python\\python36\\lib\\site-packages\\scipy\\stats\\stats.py:1713: FutureWarning: Using a non-tuple sequence for multidimensional indexing is deprecated; use `arr[tuple(seq)]` instead of `arr[seq]`. In the future this will be interpreted as an array index, `arr[np.array(seq)]`, which will result either in an error or a different result.\n",
      "  return np.add.reduce(sorted[indexer] * weights, axis=axis) / sumval\n"
     ]
    },
    {
     "data": {
      "image/png": "[encoded data removed]",
      "text/plain": [
       "<Figure size 720x432 with 1 Axes>"
      ]
     },
     "metadata": {
      "needs_background": "light"
     },
     "output_type": "display_data"
    },
    {
     "data": {
      "image/png": "[encoded data removed]",
      "text/plain": [
       "<Figure size 720x432 with 1 Axes>"
      ]
     },
     "metadata": {
      "needs_background": "light"
     },
     "output_type": "display_data"
    },
    {
     "data": {
      "image/png": "[encoded data removed]",
      "text/plain": [
       "<Figure size 720x432 with 1 Axes>"
      ]
     },
     "metadata": {
      "needs_background": "light"
     },
     "output_type": "display_data"
    },
    {
     "data": {
      "image/png": "[encoded data removed]",
      "text/plain": [
       "<Figure size 720x432 with 1 Axes>"
      ]
     },
     "metadata": {
      "needs_background": "light"
     },
     "output_type": "display_data"
    },
    {
     "data": {
      "image/png": "[encoded data removed]",
      "text/plain": [
       "<Figure size 720x432 with 1 Axes>"
      ]
     },
     "metadata": {
      "needs_background": "light"
     },
     "output_type": "display_data"
    },
    {
     "data": {
      "image/png": "[encoded data removed]",
      "text/plain": [
       "<Figure size 720x432 with 1 Axes>"
      ]
     },
     "metadata": {
      "needs_background": "light"
     },
     "output_type": "display_data"
    },
    {
     "data": {
      "image/png": "[encoded data removed]",
      "text/plain": [
       "<Figure size 720x432 with 1 Axes>"
      ]
     },
     "metadata": {
      "needs_background": "light"
     },
     "output_type": "display_data"
    },
    {
     "data": {
      "image/png": "[encoded data removed]",
      "text/plain": [
       "<Figure size 720x432 with 1 Axes>"
      ]
     },
     "metadata": {
      "needs_background": "light"
     },
     "output_type": "display_data"
    },
    {
     "data": {
      "image/png": "[encoded data removed]",
      "text/plain": [
       "<Figure size 720x432 with 1 Axes>"
      ]
     },
     "metadata": {
      "needs_background": "light"
     },
     "output_type": "display_data"
    },
    {
     "data": {
      "image/png": "[encoded data removed]",
      "text/plain": [
       "<Figure size 720x432 with 1 Axes>"
      ]
     },
     "metadata": {
      "needs_background": "light"
     },
     "output_type": "display_data"
    }
   ],
   "source": [
    "fig = plt.figure(figsize = (10,6))\n",
    "fixed_acidity=sns.barplot(x = 'quality', y = 'fixed acidity', data = Data)\n",
    "fixed_acidity.figure.savefig(\"fixed_acidity.png\")\n",
    "fig = plt.figure(figsize = (10,6))\n",
    "volatile_acidity=sns.barplot(x = 'quality', y = 'volatile acidity', data = Data)\n",
    "volatile_acidity.figure.savefig(\"volatile_acidity.png\")\n",
    "fig = plt.figure(figsize = (10,6))\n",
    "citric_acid=sns.barplot(x = 'quality', y = 'citric acid', data = Data)\n",
    "citric_acid.figure.savefig(\"citric_acid.png\")\n",
    "fig = plt.figure(figsize = (10,6))\n",
    "residual_sugar=sns.barplot(x = 'quality', y = 'residual sugar', data = Data)\n",
    "residual_sugar.figure.savefig(\"residual_sugar.png\")\n",
    "fig = plt.figure(figsize = (10,6))\n",
    "chlorides=sns.barplot(x = 'quality', y = 'chlorides', data = Data)\n",
    "chlorides.figure.savefig(\"chlorides.png\")\n",
    "fig = plt.figure(figsize = (10,6))\n",
    "free_sulfur_dioxide=sns.barplot(x = 'quality', y = 'free sulfur dioxide', data = Data)\n",
    "free_sulfur_dioxide.figure.savefig(\"free_sulfur_dioxide.png\")\n",
    "fig = plt.figure(figsize = (10,6))\n",
    "total_sulfur_dioxide=sns.barplot(x = 'quality', y = 'total sulfur dioxide', data = Data)\n",
    "total_sulfur_dioxide.figure.savefig(\"total_sulfur_dioxide.png\")\n",
    "fig = plt.figure(figsize = (10,6))\n",
    "sulphates=sns.barplot(x = 'quality', y = 'sulphates', data = Data)\n",
    "sulphates.figure.savefig(\"sulphates.png\")\n",
    "fig = plt.figure(figsize = (10,6))\n",
    "alcohol=sns.barplot(x = 'quality', y = 'alcohol', data = Data)\n",
    "alcohol.figure.savefig(\"alcohol.png\")\n",
    "fig = plt.figure(figsize = (10,6))\n",
    "density=sns.barplot(x = 'quality', y = 'density', data = Data)\n",
    "density.figure.savefig(\"density.png\")"
   ]
  },
  {
   "cell_type": "code",
   "execution_count": 11,
   "metadata": {},
   "outputs": [
    {
     "data": {
      "text/html": [
       "<div>\n",
       "<style scoped>\n",
       "    .dataframe tbody tr th:only-of-type {\n",
       "        vertical-align: middle;\n",
       "    }\n",
       "\n",
       "    .dataframe tbody tr th {\n",
       "        vertical-align: top;\n",
       "    }\n",
       "\n",
       "    .dataframe thead th {\n",
       "        text-align: right;\n",
       "    }\n",
       "</style>\n",
       "<table border=\"1\" class=\"dataframe\">\n",
       "  <thead>\n",
       "    <tr style=\"text-align: right;\">\n",
       "      <th></th>\n",
       "      <th>fixed acidity</th>\n",
       "      <th>volatile acidity</th>\n",
       "      <th>citric acid</th>\n",
       "      <th>residual sugar</th>\n",
       "      <th>chlorides</th>\n",
       "      <th>free sulfur dioxide</th>\n",
       "      <th>total sulfur dioxide</th>\n",
       "      <th>density</th>\n",
       "      <th>pH</th>\n",
       "      <th>sulphates</th>\n",
       "      <th>alcohol</th>\n",
       "      <th>quality</th>\n",
       "    </tr>\n",
       "  </thead>\n",
       "  <tbody>\n",
       "    <tr>\n",
       "      <th>fixed acidity</th>\n",
       "      <td>1.000000</td>\n",
       "      <td>-0.026443</td>\n",
       "      <td>0.290072</td>\n",
       "      <td>0.084192</td>\n",
       "      <td>0.021500</td>\n",
       "      <td>0.058353</td>\n",
       "      <td>0.053967</td>\n",
       "      <td>0.264645</td>\n",
       "      <td>-0.423859</td>\n",
       "      <td>-0.015909</td>\n",
       "      <td>-0.059419</td>\n",
       "      <td>-0.108500</td>\n",
       "    </tr>\n",
       "    <tr>\n",
       "      <th>volatile acidity</th>\n",
       "      <td>-0.026443</td>\n",
       "      <td>1.000000</td>\n",
       "      <td>-0.150979</td>\n",
       "      <td>0.042790</td>\n",
       "      <td>0.064511</td>\n",
       "      <td>0.079364</td>\n",
       "      <td>0.030476</td>\n",
       "      <td>0.025885</td>\n",
       "      <td>-0.030630</td>\n",
       "      <td>-0.037471</td>\n",
       "      <td>0.011235</td>\n",
       "      <td>-0.194541</td>\n",
       "    </tr>\n",
       "    <tr>\n",
       "      <th>citric acid</th>\n",
       "      <td>0.290072</td>\n",
       "      <td>-0.150979</td>\n",
       "      <td>1.000000</td>\n",
       "      <td>0.091237</td>\n",
       "      <td>0.114533</td>\n",
       "      <td>-0.031662</td>\n",
       "      <td>0.132114</td>\n",
       "      <td>0.150472</td>\n",
       "      <td>-0.163871</td>\n",
       "      <td>0.063242</td>\n",
       "      <td>-0.048324</td>\n",
       "      <td>-0.010867</td>\n",
       "    </tr>\n",
       "    <tr>\n",
       "      <th>residual sugar</th>\n",
       "      <td>0.084192</td>\n",
       "      <td>0.042790</td>\n",
       "      <td>0.091237</td>\n",
       "      <td>1.000000</td>\n",
       "      <td>0.085295</td>\n",
       "      <td>-0.053748</td>\n",
       "      <td>0.419902</td>\n",
       "      <td>0.792326</td>\n",
       "      <td>-0.193916</td>\n",
       "      <td>-0.029990</td>\n",
       "      <td>-0.275188</td>\n",
       "      <td>-0.099621</td>\n",
       "    </tr>\n",
       "    <tr>\n",
       "      <th>chlorides</th>\n",
       "      <td>0.021500</td>\n",
       "      <td>0.064511</td>\n",
       "      <td>0.114533</td>\n",
       "      <td>0.085295</td>\n",
       "      <td>1.000000</td>\n",
       "      <td>-0.046354</td>\n",
       "      <td>0.184134</td>\n",
       "      <td>0.255668</td>\n",
       "      <td>-0.086617</td>\n",
       "      <td>0.012031</td>\n",
       "      <td>-0.248521</td>\n",
       "      <td>-0.209607</td>\n",
       "    </tr>\n",
       "    <tr>\n",
       "      <th>free sulfur dioxide</th>\n",
       "      <td>0.058353</td>\n",
       "      <td>0.079364</td>\n",
       "      <td>-0.031662</td>\n",
       "      <td>-0.053748</td>\n",
       "      <td>-0.046354</td>\n",
       "      <td>1.000000</td>\n",
       "      <td>-0.295574</td>\n",
       "      <td>-0.003089</td>\n",
       "      <td>-0.090530</td>\n",
       "      <td>-0.049446</td>\n",
       "      <td>-0.090392</td>\n",
       "      <td>-0.078015</td>\n",
       "    </tr>\n",
       "    <tr>\n",
       "      <th>total sulfur dioxide</th>\n",
       "      <td>0.053967</td>\n",
       "      <td>0.030476</td>\n",
       "      <td>0.132114</td>\n",
       "      <td>0.419902</td>\n",
       "      <td>0.184134</td>\n",
       "      <td>-0.295574</td>\n",
       "      <td>1.000000</td>\n",
       "      <td>0.510440</td>\n",
       "      <td>-0.002259</td>\n",
       "      <td>0.118277</td>\n",
       "      <td>-0.200981</td>\n",
       "      <td>-0.120428</td>\n",
       "    </tr>\n",
       "    <tr>\n",
       "      <th>density</th>\n",
       "      <td>0.264645</td>\n",
       "      <td>0.025885</td>\n",
       "      <td>0.150472</td>\n",
       "      <td>0.792326</td>\n",
       "      <td>0.255668</td>\n",
       "      <td>-0.003089</td>\n",
       "      <td>0.510440</td>\n",
       "      <td>1.000000</td>\n",
       "      <td>-0.090886</td>\n",
       "      <td>0.072821</td>\n",
       "      <td>-0.502066</td>\n",
       "      <td>-0.309837</td>\n",
       "    </tr>\n",
       "    <tr>\n",
       "      <th>pH</th>\n",
       "      <td>-0.423859</td>\n",
       "      <td>-0.030630</td>\n",
       "      <td>-0.163871</td>\n",
       "      <td>-0.193916</td>\n",
       "      <td>-0.086617</td>\n",
       "      <td>-0.090530</td>\n",
       "      <td>-0.002259</td>\n",
       "      <td>-0.090886</td>\n",
       "      <td>1.000000</td>\n",
       "      <td>0.157146</td>\n",
       "      <td>0.092532</td>\n",
       "      <td>0.099749</td>\n",
       "    </tr>\n",
       "    <tr>\n",
       "      <th>sulphates</th>\n",
       "      <td>-0.015909</td>\n",
       "      <td>-0.037471</td>\n",
       "      <td>0.063242</td>\n",
       "      <td>-0.029990</td>\n",
       "      <td>0.012031</td>\n",
       "      <td>-0.049446</td>\n",
       "      <td>0.118277</td>\n",
       "      <td>0.072821</td>\n",
       "      <td>0.157146</td>\n",
       "      <td>1.000000</td>\n",
       "      <td>0.004746</td>\n",
       "      <td>0.054308</td>\n",
       "    </tr>\n",
       "    <tr>\n",
       "      <th>alcohol</th>\n",
       "      <td>-0.059419</td>\n",
       "      <td>0.011235</td>\n",
       "      <td>-0.048324</td>\n",
       "      <td>-0.275188</td>\n",
       "      <td>-0.248521</td>\n",
       "      <td>-0.090392</td>\n",
       "      <td>-0.200981</td>\n",
       "      <td>-0.502066</td>\n",
       "      <td>0.092532</td>\n",
       "      <td>0.004746</td>\n",
       "      <td>1.000000</td>\n",
       "      <td>0.418017</td>\n",
       "    </tr>\n",
       "    <tr>\n",
       "      <th>quality</th>\n",
       "      <td>-0.108500</td>\n",
       "      <td>-0.194541</td>\n",
       "      <td>-0.010867</td>\n",
       "      <td>-0.099621</td>\n",
       "      <td>-0.209607</td>\n",
       "      <td>-0.078015</td>\n",
       "      <td>-0.120428</td>\n",
       "      <td>-0.309837</td>\n",
       "      <td>0.099749</td>\n",
       "      <td>0.054308</td>\n",
       "      <td>0.418017</td>\n",
       "      <td>1.000000</td>\n",
       "    </tr>\n",
       "  </tbody>\n",
       "</table>\n",
       "</div>"
      ],
      "text/plain": [
       "                      fixed acidity  volatile acidity  citric acid  \\\n",
       "fixed acidity              1.000000         -0.026443     0.290072   \n",
       "volatile acidity          -0.026443          1.000000    -0.150979   \n",
       "citric acid                0.290072         -0.150979     1.000000   \n",
       "residual sugar             0.084192          0.042790     0.091237   \n",
       "chlorides                  0.021500          0.064511     0.114533   \n",
       "free sulfur dioxide        0.058353          0.079364    -0.031662   \n",
       "total sulfur dioxide       0.053967          0.030476     0.132114   \n",
       "density                    0.264645          0.025885     0.150472   \n",
       "pH                        -0.423859         -0.030630    -0.163871   \n",
       "sulphates                 -0.015909         -0.037471     0.063242   \n",
       "alcohol                   -0.059419          0.011235    -0.048324   \n",
       "quality                   -0.108500         -0.194541    -0.010867   \n",
       "\n",
       "                      residual sugar  chlorides  free sulfur dioxide  \\\n",
       "fixed acidity               0.084192   0.021500             0.058353   \n",
       "volatile acidity            0.042790   0.064511             0.079364   \n",
       "citric acid                 0.091237   0.114533            -0.031662   \n",
       "residual sugar              1.000000   0.085295            -0.053748   \n",
       "chlorides                   0.085295   1.000000            -0.046354   \n",
       "free sulfur dioxide        -0.053748  -0.046354             1.000000   \n",
       "total sulfur dioxide        0.419902   0.184134            -0.295574   \n",
       "density                     0.792326   0.255668            -0.003089   \n",
       "pH                         -0.193916  -0.086617            -0.090530   \n",
       "sulphates                  -0.029990   0.012031            -0.049446   \n",
       "alcohol                    -0.275188  -0.248521            -0.090392   \n",
       "quality                    -0.099621  -0.209607            -0.078015   \n",
       "\n",
       "                      total sulfur dioxide   density        pH  sulphates  \\\n",
       "fixed acidity                     0.053967  0.264645 -0.423859  -0.015909   \n",
       "volatile acidity                  0.030476  0.025885 -0.030630  -0.037471   \n",
       "citric acid                       0.132114  0.150472 -0.163871   0.063242   \n",
       "residual sugar                    0.419902  0.792326 -0.193916  -0.029990   \n",
       "chlorides                         0.184134  0.255668 -0.086617   0.012031   \n",
       "free sulfur dioxide              -0.295574 -0.003089 -0.090530  -0.049446   \n",
       "total sulfur dioxide              1.000000  0.510440 -0.002259   0.118277   \n",
       "density                           0.510440  1.000000 -0.090886   0.072821   \n",
       "pH                               -0.002259 -0.090886  1.000000   0.157146   \n",
       "sulphates                         0.118277  0.072821  0.157146   1.000000   \n",
       "alcohol                          -0.200981 -0.502066  0.092532   0.004746   \n",
       "quality                          -0.120428 -0.309837  0.099749   0.054308   \n",
       "\n",
       "                       alcohol   quality  \n",
       "fixed acidity        -0.059419 -0.108500  \n",
       "volatile acidity      0.011235 -0.194541  \n",
       "citric acid          -0.048324 -0.010867  \n",
       "residual sugar       -0.275188 -0.099621  \n",
       "chlorides            -0.248521 -0.209607  \n",
       "free sulfur dioxide  -0.090392 -0.078015  \n",
       "total sulfur dioxide -0.200981 -0.120428  \n",
       "density              -0.502066 -0.309837  \n",
       "pH                    0.092532  0.099749  \n",
       "sulphates             0.004746  0.054308  \n",
       "alcohol               1.000000  0.418017  \n",
       "quality               0.418017  1.000000  "
      ]
     },
     "execution_count": 11,
     "metadata": {},
     "output_type": "execute_result"
    },
    {
     "data": {
      "image/png": "[encoded data removed]",
      "text/plain": [
       "<Figure size 432x288 with 2 Axes>"
      ]
     },
     "metadata": {
      "needs_background": "light"
     },
     "output_type": "display_data"
    }
   ],
   "source": [
    "corr = Data.corr()\n",
    "sns.heatmap(corr, \n",
    "           xticklabels=corr.columns.values,\n",
    "           yticklabels=corr.columns.values)\n",
    "corr"
   ]
  },
  {
   "cell_type": "code",
   "execution_count": 12,
   "metadata": {},
   "outputs": [],
   "source": [
    "Data = Data.drop('sulphates', axis = 1)\n",
    "Data = Data.drop('citric acid', axis = 1)\n",
    "Data = Data.drop('fixed acidity', axis = 1)\n",
    "Data = Data.drop('density', axis = 1)"
   ]
  },
  {
   "cell_type": "code",
   "execution_count": 19,
   "metadata": {},
   "outputs": [],
   "source": [
    "X = Data.drop('quality', axis = 1)\n",
    "y = Data['quality']\n",
    "X_train, X_test, y_train, y_test = train_test_split(X, y, test_size = 0.2, random_state = 42)"
   ]
  },
  {
   "cell_type": "code",
   "execution_count": 20,
   "metadata": {},
   "outputs": [],
   "source": [
    "rfc = RandomForestClassifier(n_estimators=200)\n",
    "rfc.fit(X_train, y_train)\n",
    "pred_rfc = rfc.predict(X_test)"
   ]
  },
  {
   "cell_type": "code",
   "execution_count": 21,
   "metadata": {},
   "outputs": [
    {
     "name": "stdout",
     "output_type": "stream",
     "text": [
      "              precision    recall  f1-score   support\n",
      "\n",
      "         4.0       0.80      0.12      0.21        33\n",
      "         5.0       0.69      0.67      0.68       313\n",
      "         6.0       0.64      0.77      0.70       433\n",
      "         7.0       0.72      0.55      0.62       166\n",
      "         8.0       0.94      0.50      0.65        30\n",
      "\n",
      "   micro avg       0.67      0.67      0.67       975\n",
      "   macro avg       0.76      0.52      0.57       975\n",
      "weighted avg       0.68      0.67      0.66       975\n",
      "\n"
     ]
    }
   ],
   "source": [
    "print(classification_report(y_test, pred_rfc))"
   ]
  },
  {
   "cell_type": "code",
   "execution_count": 22,
   "metadata": {},
   "outputs": [
    {
     "name": "stdout",
     "output_type": "stream",
     "text": [
      "[[  4  19  10   0   0]\n",
      " [  1 211  98   3   0]\n",
      " [  0  73 334  26   0]\n",
      " [  0   4  70  91   1]\n",
      " [  0   1   7   7  15]]\n"
     ]
    }
   ],
   "source": [
    "print(confusion_matrix(y_test, pred_rfc))"
   ]
  },
  {
   "cell_type": "code",
   "execution_count": 23,
   "metadata": {},
   "outputs": [
    {
     "data": {
      "text/plain": [
       "0.6717948717948717"
      ]
     },
     "execution_count": 23,
     "metadata": {},
     "output_type": "execute_result"
    }
   ],
   "source": [
    "accuracy_score(y_test,pred_rfc)"
   ]
  },
  {
   "cell_type": "code",
   "execution_count": 18,
   "metadata": {},
   "outputs": [
    {
     "data": {
      "text/html": [
       "<div>\n",
       "<style scoped>\n",
       "    .dataframe tbody tr th:only-of-type {\n",
       "        vertical-align: middle;\n",
       "    }\n",
       "\n",
       "    .dataframe tbody tr th {\n",
       "        vertical-align: top;\n",
       "    }\n",
       "\n",
       "    .dataframe thead th {\n",
       "        text-align: right;\n",
       "    }\n",
       "</style>\n",
       "<table border=\"1\" class=\"dataframe\">\n",
       "  <thead>\n",
       "    <tr style=\"text-align: right;\">\n",
       "      <th></th>\n",
       "      <th>importance</th>\n",
       "    </tr>\n",
       "  </thead>\n",
       "  <tbody>\n",
       "    <tr>\n",
       "      <th>alcohol</th>\n",
       "      <td>0.172113</td>\n",
       "    </tr>\n",
       "    <tr>\n",
       "      <th>total sulfur dioxide</th>\n",
       "      <td>0.151113</td>\n",
       "    </tr>\n",
       "    <tr>\n",
       "      <th>free sulfur dioxide</th>\n",
       "      <td>0.146553</td>\n",
       "    </tr>\n",
       "    <tr>\n",
       "      <th>residual sugar</th>\n",
       "      <td>0.141225</td>\n",
       "    </tr>\n",
       "    <tr>\n",
       "      <th>pH</th>\n",
       "      <td>0.132279</td>\n",
       "    </tr>\n",
       "    <tr>\n",
       "      <th>chlorides</th>\n",
       "      <td>0.129540</td>\n",
       "    </tr>\n",
       "    <tr>\n",
       "      <th>volatile acidity</th>\n",
       "      <td>0.127178</td>\n",
       "    </tr>\n",
       "  </tbody>\n",
       "</table>\n",
       "</div>"
      ],
      "text/plain": [
       "                      importance\n",
       "alcohol                 0.172113\n",
       "total sulfur dioxide    0.151113\n",
       "free sulfur dioxide     0.146553\n",
       "residual sugar          0.141225\n",
       "pH                      0.132279\n",
       "chlorides               0.129540\n",
       "volatile acidity        0.127178"
      ]
     },
     "execution_count": 18,
     "metadata": {},
     "output_type": "execute_result"
    }
   ],
   "source": [
    "feature_importances = pd.DataFrame(rfc.feature_importances_,\n",
    "                                   index = X_train.columns,\n",
    "                                    columns=['importance']).sort_values('importance', ascending=False)\n",
    "feature_importances"
   ]
  },
  {
   "cell_type": "code",
   "execution_count": 28,
   "metadata": {},
   "outputs": [
    {
     "name": "stdout",
     "output_type": "stream",
     "text": [
      "0.4328205128205128\n",
      "0.9860566374745886\n",
      "0.4328205128205128\n"
     ]
    }
   ],
   "source": [
    "modelm = MultinomialNB()\n",
    "modelm.fit(X_train, y_train)\n",
    "y_predict = modelm.predict(X_test)\n",
    "print(str(modelm.score(X_test, y_test)))\n",
    "mse = mean_squared_error(y_predict, y_test)\n",
    "print(str(mse ** 0.5))\n",
    "print(accuracy_score(y_test,y_predict))"
   ]
  },
  {
   "cell_type": "code",
   "execution_count": 25,
   "metadata": {},
   "outputs": [
    {
     "name": "stdout",
     "output_type": "stream",
     "text": [
      "0.5087179487179487\n",
      "0.8747160711500648\n"
     ]
    }
   ],
   "source": [
    "model = KNeighborsClassifier()\n",
    "model.fit(X_train, y_train)\n",
    "y_predict = model.predict(X_test)\n",
    "\n",
    "print(model.score(X_test, y_test))\n",
    "print(mean_squared_error(y_predict, y_test) ** 0.5)"
   ]
  },
  {
   "cell_type": "code",
   "execution_count": 29,
   "metadata": {},
   "outputs": [
    {
     "name": "stdout",
     "output_type": "stream",
     "text": [
      "              precision    recall  f1-score   support\n",
      "\n",
      "         4.0       1.00      0.03      0.06        33\n",
      "         5.0       0.58      0.42      0.49       313\n",
      "         6.0       0.50      0.76      0.60       433\n",
      "         7.0       0.46      0.23      0.31       166\n",
      "         8.0       0.00      0.00      0.00        30\n",
      "\n",
      "   micro avg       0.51      0.51      0.51       975\n",
      "   macro avg       0.51      0.29      0.29       975\n",
      "weighted avg       0.52      0.51      0.48       975\n",
      "\n",
      "0.5138461538461538\n"
     ]
    },
    {
     "name": "stderr",
     "output_type": "stream",
     "text": [
      "c:\\users\\dell\\appdata\\local\\programs\\python\\python36\\lib\\site-packages\\sklearn\\metrics\\classification.py:1143: UndefinedMetricWarning: Precision and F-score are ill-defined and being set to 0.0 in labels with no predicted samples.\n",
      "  'precision', 'predicted', average, warn_for)\n",
      "c:\\users\\dell\\appdata\\local\\programs\\python\\python36\\lib\\site-packages\\sklearn\\metrics\\classification.py:1143: UndefinedMetricWarning: Precision and F-score are ill-defined and being set to 0.0 in labels with no predicted samples.\n",
      "  'precision', 'predicted', average, warn_for)\n",
      "c:\\users\\dell\\appdata\\local\\programs\\python\\python36\\lib\\site-packages\\sklearn\\metrics\\classification.py:1143: UndefinedMetricWarning: Precision and F-score are ill-defined and being set to 0.0 in labels with no predicted samples.\n",
      "  'precision', 'predicted', average, warn_for)\n"
     ]
    }
   ],
   "source": [
    "model = LogisticRegression(multi_class='multinomial', solver='newton-cg')\n",
    "model.fit(X_train, y_train)\n",
    "predicted= model.predict(X_test)\n",
    "model.score(X_train, y_train)\n",
    "confusion_matrix(predicted,y_test)\n",
    "print(classification_report(y_test, predicted))\n",
    "print(accuracy_score(y_test,predicted))"
   ]
  },
  {
   "cell_type": "code",
   "execution_count": null,
   "metadata": {},
   "outputs": [],
   "source": []
  }
 ],
 "metadata": {
  "kernelspec": {
   "display_name": "Python 3",
   "language": "python",
   "name": "python3"
  },
  "language_info": {
   "codemirror_mode": {
    "name": "ipython",
    "version": 3
   },
   "file_extension": ".py",
   "mimetype": "text/x-python",
   "name": "python",
   "nbconvert_exporter": "python",
   "pygments_lexer": "ipython3",
   "version": "3.6.0"
  }
 },
 "nbformat": 4,
 "nbformat_minor": 2
}
